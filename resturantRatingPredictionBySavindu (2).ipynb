{
  "nbformat": 4,
  "nbformat_minor": 0,
  "metadata": {
    "colab": {
      "name": "resturantRatingPredictionBySavindu.ipynb",
      "provenance": [],
      "collapsed_sections": [],
      "toc_visible": true
    },
    "kernelspec": {
      "name": "python3",
      "display_name": "Python 3"
    },
    "language_info": {
      "name": "python"
    }
  },
  "cells": [
    {
      "cell_type": "code",
      "execution_count": 1,
      "metadata": {
        "colab": {
          "base_uri": "https://localhost:8080/"
        },
        "id": "Jj_EFz2JcdN5",
        "outputId": "478cbbe1-e28f-4d91-f451-b0fb21f5fc66"
      },
      "outputs": [
        {
          "output_type": "stream",
          "name": "stdout",
          "text": [
            "Mounted at /content/gdrive\n"
          ]
        }
      ],
      "source": [
        "from google.colab import drive;\n",
        "drive.mount('/content/gdrive');"
      ]
    },
    {
      "cell_type": "code",
      "source": [
        "import pandas as  pd; #Data set eke thin ewa ape data kiyn variable ekt gann\n",
        "import numpy as nm; #Linear algebra task krnn\n",
        "import matplotlib.pyplot as plt; #graphic patten chart plot wage ewa adinn ewat\n",
        "import sklearn as sk; #performance metrics adinna\n",
        "\n",
        "import seaborn as sns;\n",
        "import sklearn.metrics as sm;\n",
        "import sklearn.datasets\n",
        "#from sklearn.model_selection import train_test_split\n",
        "from xgboost import XGBRegressor\n",
        "from sklearn import metrics"
      ],
      "metadata": {
        "id": "2bVXERqrdAE9"
      },
      "execution_count": 2,
      "outputs": []
    },
    {
      "cell_type": "code",
      "source": [
        "#data = pd.read_csv(\"/content/gdrive/MyDrive/Dataset/savinduResturantDataSet.csv\", sep='|', encoding='latin-1', error_bad_lines=False);\n",
        "data_set = pd.read_csv(\"/content/gdrive/MyDrive/Dataset/savindu_resturant_dataset.csv\");\n",
        "test_data_set = data_set; "
      ],
      "metadata": {
        "id": "BbQwf_kbdFgN"
      },
      "execution_count": 3,
      "outputs": []
    },
    {
      "cell_type": "code",
      "source": [
        "#Data set eke print kr ganna\n",
        "#print(data_set); \n",
        "\n",
        "#data set eke mul row 5 he data ganna\n",
        "print(test_data_set.head(2));\n",
        "\n",
        "#data set eke data wl thin min max meadium wage vistarayak gann\n",
        "#print(data_set.describe());\n",
        "\n",
        "#get summerrize infromation data set eke : missing values thin colum hoy gnn puluwn data set eke lenght ek blll e colum eket adalawa\n",
        "#meken puluwn apit \n",
        "# Quatitative data : ek dight gnn krnn puluwn ew / uniq wage thin ew / ekm ek ayayak vitrk ek cell ekk thin ew \n",
        "# countinous Data : ekm de dethun par wel thin ew\n",
        "# Categorical data : e kiynne gender, wage yamkisi group ekk thin data hadaunagen\n",
        "#apit  variable vidiyt gnn one train krnn ekm de wechcha ew hind Quatitative ain krl, \n",
        "#countinousl & categorical data colum nm hadauna gann model ek train krnn\n",
        "#Target variable ek vidiyt :  Rating colum ek gannawa anthim out put ek ratin ek gnn hind prediction ekedi uttre hoyn ek\n",
        "#print(data_set.info());\n",
        "\n",
        "#data sele eke thin nawat nawatha e colum eke yedil thin data wen wenm praman blnn puluwn\n",
        "#print(data_set.nunique());\n",
        "\n",
        "#print(sum(data_set.isnull().sum()));\n",
        "\n",
        "# checking the ROWS , COLS \n",
        "#(2000, 9)\n",
        "#print(data_set.shape);\n",
        "\n",
        "#colum name tik balann\n",
        "#for col in data_set : print(\"columm : \" + col);\n",
        "\n",
        "#Data set ek thin colume wal null thin ew gan balann\n",
        "#print(data_set.isnull().sum());\n",
        "\n",
        "#null values thinw nm ew replace krnn mean eken dataset eke\n",
        "#print(data_set.fillna(data_set.mean(),inplace=True));\n",
        "\n"
      ],
      "metadata": {
        "id": "DED9RcJBm97i",
        "colab": {
          "base_uri": "https://localhost:8080/"
        },
        "outputId": "b4c5baa4-4a27-4ff5-f00a-2ceec1ff6431"
      },
      "execution_count": 67,
      "outputs": [
        {
          "output_type": "stream",
          "name": "stdout",
          "text": [
            "   RestaurantID    RestaurantName  CountryCode         City  \\\n",
            "0       6317637  Le Petit Souffle          162  Makati City   \n",
            "1       6304287  Izakaya Kikufuji          162  Makati City   \n",
            "\n",
            "                                             Address  \\\n",
            "0  Third Floor, Century City Mall, Kalayaan Avenu...   \n",
            "1  Little Tokyo, 2277 Chino Roces Avenue, Legaspi...   \n",
            "\n",
            "                                     Locality  \\\n",
            "0   Century City Mall, Poblacion, Makati City   \n",
            "1  Little Tokyo, Legaspi Village, Makati City   \n",
            "\n",
            "                                     LocalityVerbose   Longitude   Latitude  \\\n",
            "0  Century City Mall, Poblacion, Makati City, Mak...  121.027535  14.565443   \n",
            "1  Little Tokyo, Legaspi Village, Makati City, Ma...  121.014101  14.553708   \n",
            "\n",
            "                     Cuisines          Currency Has_Table_booking  \\\n",
            "0  French, Japanese, Desserts  Botswana Pula(P)               Yes   \n",
            "1                    Japanese  Botswana Pula(P)               Yes   \n",
            "\n",
            "  Has_Online_delivery Is_delivering_now Switch_to_order_menu  Price_range  \\\n",
            "0                  No                No                   No            3   \n",
            "1                  No                No                   No            3   \n",
            "\n",
            "   Votes  Average_Cost_for_two  Rating  CuisineCount  \n",
            "0    314                  1100     4.8             3  \n",
            "1    591                  1200     4.5             1  \n"
          ]
        }
      ]
    },
    {
      "cell_type": "code",
      "source": [
        "#habi samahar welawat Quatitative colum ekk thinn puluwn ekm de thin tawa colum wen krl gnn puluwn. e wage w model ek train krnn gnn puluwn\n",
        "# ex : cusin colum : 1 cell = french,english 2 cell= english,japan,denmark oy wage\n",
        "#ekt function ekk hadmu ekem comul thinw nm e colum name pass krl eke separate krnn puluwn count gan hoynn\n",
        "def coulum_separated_counter(input_string_as_colum_name) : \n",
        "  new_colums=len(str(input_string_as_colum_name).split(',')); \n",
        "  return (new_colums);"
      ],
      "metadata": {
        "id": "IoqUjB_YukGi"
      },
      "execution_count": 5,
      "outputs": []
    },
    {
      "cell_type": "code",
      "source": [
        "#          Feature selection\n",
        "'''\n",
        "machin learning model ek hadann api lg dil thin data set eken awashya colum,data, wen krl gann ekt\n",
        "  benifits : Overfit wen ek wlakinwa, Accuracy ek wadi wenwa , Model ek train time ek adu wenwa anawashya data nathi hind\n",
        "\n",
        "  supervice leaning : predict krn out put data label ek use krn ek  -> filter/wrapper/intrinsic method use krnw slect krnn features\n",
        "  unsupervice learning : out put eke labele ek use nokrn ek\n",
        "\n",
        "  methods Filter : ok use krnne preprocessing wlt/ corerelation ek arn rank krl blnw out put value ek ek ekk\n",
        "                  /okedi corerelation ek wadim agaya thin ecolum ek ain krnw/ e vidiyt ithiri features aselect kr gnnw\n",
        "                  Quntitative/unique data thin  data tin colum kelinm ain krl dana,1,2,3,4 wag ewa\n",
        "\n",
        "  corerelation hoynn ek ek awastawala use krn ewa \n",
        "  \n",
        "         Fature/comum variable ek/atribute type ek                       out put eke vaue ek                   use krn corelation text ek\n",
        "         \n",
        "         continouous data                                                continous data ekk nm                    pearson'correlation\n",
        "         continouous data                                                 categorical nm                          LDA\n",
        "         Categorical data                                                 Continous data                          Anova\n",
        "         Categorical data                                                 categorical data                        chi-squre\n",
        "'''"
      ],
      "metadata": {
        "colab": {
          "base_uri": "https://localhost:8080/",
          "height": 244
        },
        "id": "CB5Hoc226RTf",
        "outputId": "ccb10231-3058-4e92-aaa7-32b462c6e3c7"
      },
      "execution_count": 6,
      "outputs": [
        {
          "output_type": "execute_result",
          "data": {
            "application/vnd.google.colaboratory.intrinsic+json": {
              "type": "string"
            },
            "text/plain": [
              "\"\\nmachin learning model ek hadann api lg dil thin data set eken awashya colum,data, wen krl gann ekt\\n  benifits : Overfit wen ek wlakinwa, Accuracy ek wadi wenwa , Model ek train time ek adu wenwa anawashya data nathi hind\\n\\n  supervice leaning : predict krn out put data label ek use krn ek  -> filter/wrapper/intrinsic method use krnw slect krnn features\\n  unsupervice learning : out put eke labele ek use nokrn ek\\n\\n  methods Filter : ok use krnne preprocessing wlt/ corerelation ek arn rank krl blnw out put value ek ek ekk\\n                  /okedi corerelation ek wadim agaya thin ecolum ek ain krnw/ e vidiyt ithiri features aselect kr gnnw\\n                  Quntitative/unique data thin  data tin colum kelinm ain krl dana,1,2,3,4 wag ewa\\n\\n  corerelation hoynn ek ek awastawala use krn ewa \\n  \\n         Fature/comum variable ek/atribute type ek                       out put eke vaue ek                   use krn corelation text ek\\n         \\n         continouous data                                                continous data ekk nm                    pearson'correlation\\n         continouous data                                                 categorical nm                          LDA\\n         Categorical data                                                 Continous data                          Anova\\n         Categorical data                                                 categorical data                        chi-squre\\n\""
            ]
          },
          "metadata": {},
          "execution_count": 6
        }
      ]
    },
    {
      "cell_type": "code",
      "source": [
        "# OUT Liyers \n",
        "'''\n",
        "  ape data sek bln yaddi e colum eke thinn puluwn nogalpen values ex : 33,38,32, 9 , 35,33,36 oke 9 kiyn ek out liyers ekk\n",
        "  ex : bank ekkin ek para horen kotigank ganiddi ek sak sahithi wage deyk\n",
        "\n",
        "  out liyers ain klm accuracy ek wadi wenw model eke\n",
        "\n",
        "  *supervice learning wldi -> classifcation/regression kraddi -> out liyers ain krnn on nattn niwardi parasayak gann bh agay\n",
        "\n",
        "  out liyer ain krnna    : 1 : box plot wal depatte kone thin ewa  / scatterplot wal athin thin ew\n",
        "\n",
        "                          2 : antaschatrurthak parasayaen obbata thin ew out liyer vidiyt gnn puluwn  data ek < ( Q3-Q1 ) < data ek\n",
        "                          pyhton code -> withpOutOutLiyers_dataSet = data_set[~ (data_set < (Q1 - 1.5 * IQR)) | (data_set > (Q3 + 1.5 * IQR)).any(axis=1)] ;\n",
        "                                         print(withpOutOutLiyers_dataSet.shape);\n",
        "\n",
        "                          3 : Z-Score ek magin out liyer ek hoyn ek \n",
        "                          python code -> from scipy import stats;\n",
        "                                         import numpy as np;\n",
        "                                         zValue = np.abs(stats.zscore(data_set)); \n",
        "                                         \n",
        "                                         * normal distribution prastare cure eke depatta kone thin data outliyers vidiyt gnnw \n",
        "                                         \n",
        "                                         withOutOutLiyers_data_set = data_set [(zValue < 3).all(axis=1)];\n",
        "\n",
        "                           4 : K-Mean use krl cluster(pokurak)godkt athin thin ewa outliyer vidiyt gnn puluwn               \n",
        "\n",
        "'''"
      ],
      "metadata": {
        "colab": {
          "base_uri": "https://localhost:8080/",
          "height": 244
        },
        "id": "qi1FvreyDg6P",
        "outputId": "9ee8aad2-a46d-4ae7-a099-830fec9e829e"
      },
      "execution_count": 7,
      "outputs": [
        {
          "output_type": "execute_result",
          "data": {
            "application/vnd.google.colaboratory.intrinsic+json": {
              "type": "string"
            },
            "text/plain": [
              "'\\n  ape data sek bln yaddi e colum eke thinn puluwn nogalpen values ex : 33,38,32, 9 , 35,33,36 oke 9 kiyn ek out liyers ekk\\n  ex : bank ekkin ek para horen kotigank ganiddi ek sak sahithi wage deyk\\n\\n  out liyers ain klm accuracy ek wadi wenw model eke\\n\\n  *supervice learning wldi -> classifcation/regression kraddi -> out liyers ain krnn on nattn niwardi parasayak gann bh agay\\n\\n  out liyer ain krnna    : 1 : box plot wal depatte kone thin ewa  / scatterplot wal athin thin ew\\n\\n                          2 : antaschatrurthak parasayaen obbata thin ew out liyer vidiyt gnn puluwn  data ek < ( Q3-Q1 ) < data ek\\n                          pyhton code -> withpOutOutLiyers_dataSet = data_set[~ (data_set < (Q1 - 1.5 * IQR)) | (data_set > (Q3 + 1.5 * IQR)).any(axis=1)] ;\\n                                         print(withpOutOutLiyers_dataSet.shape);\\n\\n                          3 : Z-Score ek magin out liyer ek hoyn ek \\n                          python code -> from scipy import stats;\\n                                         import numpy as np;\\n                                         zValue = np.abs(stats.zscore(data_set)); \\n                                         \\n                                         * normal distribution prastare cure eke depatta kone thin data outliyers vidiyt gnnw \\n                                         \\n                                         withOutOutLiyers_data_set = data_set [(zValue < 3).all(axis=1)];\\n\\n                           4 : K-Mean use krl cluster(pokurak)godkt athin thin ewa outliyer vidiyt gnn puluwn               \\n\\n'"
            ]
          },
          "metadata": {},
          "execution_count": 7
        }
      ]
    },
    {
      "cell_type": "code",
      "source": [
        "#aluthen colum ekk add kl cusine kiyn eke wachn gan separate kl count ek bll\n",
        "data_set['CuisineCount'] = data_set['Cuisines'].apply(coulum_separated_counter);\n",
        "#print(data_set.head());\n",
        "print(data_set.isnull().sum());"
      ],
      "metadata": {
        "id": "ymHdzmjTvx04",
        "colab": {
          "base_uri": "https://localhost:8080/"
        },
        "outputId": "e9983ebd-6eef-47a0-defd-9c6f1e797a29"
      },
      "execution_count": 63,
      "outputs": [
        {
          "output_type": "stream",
          "name": "stdout",
          "text": [
            "RestaurantID            0\n",
            "RestaurantName          0\n",
            "CountryCode             0\n",
            "City                    0\n",
            "Address                 0\n",
            "Locality                0\n",
            "LocalityVerbose         0\n",
            "Longitude               0\n",
            "Latitude                0\n",
            "Cuisines                9\n",
            "Currency                0\n",
            "Has_Table_booking       0\n",
            "Has_Online_delivery     0\n",
            "Is_delivering_now       0\n",
            "Switch_to_order_menu    0\n",
            "Price_range             0\n",
            "Votes                   0\n",
            "Average_Cost_for_two    0\n",
            "Rating                  0\n",
            "CuisineCount            0\n",
            "dtype: int64\n"
          ]
        }
      ]
    },
    {
      "cell_type": "code",
      "source": [
        "#data set eke thin ML model ek hadann wadak nathi Quatitative colum tik ain krnw \n",
        "unwanted_culumns = ['RestaurantID','RestaurantName','City','Address','Locality','LocalityVerbose','Cuisines'];\n",
        "new_data_set = data_set.drop(unwanted_culumns,axis=1);\n",
        "#print(new_data_set.head());"
      ],
      "metadata": {
        "id": "DoeC9mGHxQKG"
      },
      "execution_count": 9,
      "outputs": []
    },
    {
      "cell_type": "code",
      "source": [
        "#Data set eke thin colum wl missing values /null ew thinwd blnn\n",
        "#null values nattn : ek clean data set ekk ek gnn puluwn Model ek train krnn\n",
        "#null values thibbot ek Mean value eken replace krnn\n",
        "print(new_data_set.isnull().sum());"
      ],
      "metadata": {
        "colab": {
          "base_uri": "https://localhost:8080/"
        },
        "id": "hSXobASzzcq5",
        "outputId": "abe755cf-873e-42b3-c571-1ee01bfc9f25"
      },
      "execution_count": 10,
      "outputs": [
        {
          "output_type": "stream",
          "name": "stdout",
          "text": [
            "CountryCode             0\n",
            "Longitude               0\n",
            "Latitude                0\n",
            "Currency                0\n",
            "Has_Table_booking       0\n",
            "Has_Online_delivery     0\n",
            "Is_delivering_now       0\n",
            "Switch_to_order_menu    0\n",
            "Price_range             0\n",
            "Votes                   0\n",
            "Average_Cost_for_two    0\n",
            "Rating                  0\n",
            "CuisineCount            0\n",
            "dtype: int64\n"
          ]
        }
      ]
    },
    {
      "cell_type": "code",
      "source": [
        "print(new_data_set.fillna(data_set.mean(),inplace=True));"
      ],
      "metadata": {
        "colab": {
          "base_uri": "https://localhost:8080/"
        },
        "id": "F7o8Gh_pV4db",
        "outputId": "b6d9555b-827f-4eaf-eb50-6e5086a7bf8f"
      },
      "execution_count": 11,
      "outputs": [
        {
          "output_type": "stream",
          "name": "stdout",
          "text": [
            "None\n"
          ]
        },
        {
          "output_type": "stream",
          "name": "stderr",
          "text": [
            "/usr/local/lib/python3.7/dist-packages/ipykernel_launcher.py:1: FutureWarning: Dropping of nuisance columns in DataFrame reductions (with 'numeric_only=None') is deprecated; in a future version this will raise TypeError.  Select only valid columns before calling the reduction.\n",
            "  \"\"\"Entry point for launching an IPython kernel.\n"
          ]
        }
      ]
    },
    {
      "cell_type": "code",
      "source": [
        "print(new_data_set.head(3));"
      ],
      "metadata": {
        "colab": {
          "base_uri": "https://localhost:8080/"
        },
        "id": "CMeGAliKQP8T",
        "outputId": "83ed807f-7b0a-4f24-c788-ba5ae6726d12"
      },
      "execution_count": 12,
      "outputs": [
        {
          "output_type": "stream",
          "name": "stdout",
          "text": [
            "   CountryCode   Longitude   Latitude          Currency Has_Table_booking  \\\n",
            "0          162  121.027535  14.565443  Botswana Pula(P)               Yes   \n",
            "1          162  121.014101  14.553708  Botswana Pula(P)               Yes   \n",
            "2          162  121.056831  14.581404  Botswana Pula(P)               Yes   \n",
            "\n",
            "  Has_Online_delivery Is_delivering_now Switch_to_order_menu  Price_range  \\\n",
            "0                  No                No                   No            3   \n",
            "1                  No                No                   No            3   \n",
            "2                  No                No                   No            4   \n",
            "\n",
            "   Votes  Average_Cost_for_two  Rating  CuisineCount  \n",
            "0    314                  1100     4.8             3  \n",
            "1    591                  1200     4.5             1  \n",
            "2    270                  4000     4.4             4  \n"
          ]
        }
      ]
    },
    {
      "cell_type": "code",
      "source": [
        "#Dan thinne moedl ek ek ek Nachin Learning Technique walin Train krl wadim aquaracy ek thin technique ek thora ganna\n",
        "#ex : Decision tree, Randam forest , K-Mean, ANN-Artificial nural network \n",
        "#     support vector danne image processing  wage de walt\n"
      ],
      "metadata": {
        "id": "Mhw3Inj5Vce2"
      },
      "execution_count": 13,
      "outputs": []
    },
    {
      "cell_type": "code",
      "source": [
        "#print(new_data_set.head(3));\n",
        "#for col in data_set : print(\"columm : \" + col);"
      ],
      "metadata": {
        "id": "5wR9GyNFbdBZ"
      },
      "execution_count": 14,
      "outputs": []
    },
    {
      "cell_type": "code",
      "source": [
        "#Model ekt colum thoragann\n",
        "selected_columns_for_ml = ['Votes','Average_Cost_for_two','Has_Table_booking','Has_Online_delivery','Price_range'];\n",
        "DataForModel = new_data_set[selected_columns_for_ml];\n",
        "print\n",
        "#print(DataForModel.head(3));\n",
        "for col in DataForModel : print(\"columm : \" + col);"
      ],
      "metadata": {
        "colab": {
          "base_uri": "https://localhost:8080/"
        },
        "id": "R9YY96Y6eqoi",
        "outputId": "4c72e629-0926-470e-98bc-56629e70f0ea"
      },
      "execution_count": 15,
      "outputs": [
        {
          "output_type": "stream",
          "name": "stdout",
          "text": [
            "columm : Votes\n",
            "columm : Average_Cost_for_two\n",
            "columm : Has_Table_booking\n",
            "columm : Has_Online_delivery\n",
            "columm : Price_range\n"
          ]
        }
      ]
    },
    {
      "cell_type": "code",
      "source": [
        "#final data tik save krgann reference ekk vidiyt during deployment time ek wenkn\n",
        "DataForModel.to_pickle('DataForModel.pkl');"
      ],
      "metadata": {
        "id": "V1Yd-kzMgHb9"
      },
      "execution_count": 16,
      "outputs": []
    },
    {
      "cell_type": "code",
      "source": [
        "#Data set eke thin yes/no colum thinw nm ew numeric 1/2 wage denw model ek train krnn\n",
        "DataForModel['Has_Table_booking'].replace({'Yes' : 1, 'No' : 0}, inplace = True);\n",
        "DataForModel['Has_Online_delivery'].replace({'Yes' : 1, 'No' : 0},inplace = True);\n",
        "print(DataForModel.head(3));"
      ],
      "metadata": {
        "colab": {
          "base_uri": "https://localhost:8080/"
        },
        "id": "NvrYMtQJgq2-",
        "outputId": "e85f3a20-48d3-483f-9a26-a480d33d4bb6"
      },
      "execution_count": 17,
      "outputs": [
        {
          "output_type": "stream",
          "name": "stdout",
          "text": [
            "   Votes  Average_Cost_for_two  Has_Table_booking  Has_Online_delivery  \\\n",
            "0    314                  1100                  1                    0   \n",
            "1    591                  1200                  1                    0   \n",
            "2    270                  4000                  1                    0   \n",
            "\n",
            "   Price_range  \n",
            "0            3  \n",
            "1            3  \n",
            "2            4  \n"
          ]
        },
        {
          "output_type": "stream",
          "name": "stderr",
          "text": [
            "/usr/local/lib/python3.7/dist-packages/pandas/core/generic.py:6619: SettingWithCopyWarning: \n",
            "A value is trying to be set on a copy of a slice from a DataFrame\n",
            "\n",
            "See the caveats in the documentation: https://pandas.pydata.org/pandas-docs/stable/user_guide/indexing.html#returning-a-view-versus-a-copy\n",
            "  return self._update_inplace(result)\n"
          ]
        }
      ]
    },
    {
      "cell_type": "code",
      "source": [
        "#                         check out liyers"
      ],
      "metadata": {
        "id": "mVeJXingMY1e"
      },
      "execution_count": null,
      "outputs": []
    },
    {
      "cell_type": "code",
      "source": [
        "xCol = DataForModel['Votes'];\n",
        "yCol = new_data_set['Rating']\n",
        "plt.scatter(xCol,yCol);\n",
        "plt.show();"
      ],
      "metadata": {
        "colab": {
          "base_uri": "https://localhost:8080/",
          "height": 265
        },
        "id": "SKjScXPOL5d6",
        "outputId": "bc5b62fa-eda3-46d0-e18f-056cb9058eb6"
      },
      "execution_count": 18,
      "outputs": [
        {
          "output_type": "display_data",
          "data": {
            "image/png": "[encoded data removed]",
            "text/plain": [
              "<Figure size 432x288 with 1 Axes>"
            ]
          },
          "metadata": {
            "needs_background": "light"
          }
        }
      ]
    },
    {
      "cell_type": "code",
      "source": [
        "sns.displot(DataForModel['Votes'].dropna());"
      ],
      "metadata": {
        "colab": {
          "base_uri": "https://localhost:8080/",
          "height": 369
        },
        "id": "jL0n6qPaD5N3",
        "outputId": "ff9bf98c-e039-4b8a-86e8-59d414bef074"
      },
      "execution_count": 53,
      "outputs": [
        {
          "output_type": "display_data",
          "data": {
            "image/png": "[encoded data removed]",
            "text/plain": [
              "<Figure size 360x360 with 1 Axes>"
            ]
          },
          "metadata": {
            "needs_background": "light"
          }
        }
      ]
    },
    {
      "cell_type": "code",
      "source": [
        "xCol = DataForModel['Average_Cost_for_two'];\n",
        "yCol = new_data_set['Rating']\n",
        "plt.scatter(xCol,yCol);\n",
        "plt.show();"
      ],
      "metadata": {
        "colab": {
          "base_uri": "https://localhost:8080/",
          "height": 265
        },
        "id": "8bGhozTAMg-L",
        "outputId": "4f09dfa3-20dc-41f9-ff3f-17861ca5172f"
      },
      "execution_count": 19,
      "outputs": [
        {
          "output_type": "display_data",
          "data": {
            "image/png": "[encoded data removed]",
            "text/plain": [
              "<Figure size 432x288 with 1 Axes>"
            ]
          },
          "metadata": {
            "needs_background": "light"
          }
        }
      ]
    },
    {
      "cell_type": "code",
      "source": [
        "sns.displot(DataForModel['Average_Cost_for_two'].dropna());"
      ],
      "metadata": {
        "colab": {
          "base_uri": "https://localhost:8080/",
          "height": 369
        },
        "id": "CTVOQ_E0EPvD",
        "outputId": "7339af0f-b3e0-4130-c470-201cf3d92efa"
      },
      "execution_count": 54,
      "outputs": [
        {
          "output_type": "display_data",
          "data": {
            "image/png": "[encoded data removed]",
            "text/plain": [
              "<Figure size 360x360 with 1 Axes>"
            ]
          },
          "metadata": {
            "needs_background": "light"
          }
        }
      ]
    },
    {
      "cell_type": "code",
      "source": [
        "xCol = DataForModel['Has_Table_booking'];\n",
        "yCol = new_data_set['Rating']\n",
        "plt.scatter(xCol,yCol);\n",
        "plt.show();"
      ],
      "metadata": {
        "colab": {
          "base_uri": "https://localhost:8080/",
          "height": 265
        },
        "id": "emns4LoZMm7q",
        "outputId": "e36fb259-c080-4e05-c55d-6f9715dccb51"
      },
      "execution_count": 20,
      "outputs": [
        {
          "output_type": "display_data",
          "data": {
            "image/png": "[encoded data removed]",
            "text/plain": [
              "<Figure size 432x288 with 1 Axes>"
            ]
          },
          "metadata": {
            "needs_background": "light"
          }
        }
      ]
    },
    {
      "cell_type": "code",
      "source": [
        "sns.displot(DataForModel['Has_Table_booking'].dropna());"
      ],
      "metadata": {
        "colab": {
          "base_uri": "https://localhost:8080/",
          "height": 369
        },
        "id": "PnNohtnbEulj",
        "outputId": "b0ad2940-481e-49f9-cb9a-059e5b550d86"
      },
      "execution_count": 55,
      "outputs": [
        {
          "output_type": "display_data",
          "data": {
            "image/png": "[encoded data removed]",
            "text/plain": [
              "<Figure size 360x360 with 1 Axes>"
            ]
          },
          "metadata": {
            "needs_background": "light"
          }
        }
      ]
    },
    {
      "cell_type": "code",
      "source": [
        "xCol = DataForModel['Has_Online_delivery'];\n",
        "yCol = new_data_set['Rating']\n",
        "plt.scatter(xCol,yCol);\n",
        "plt.show();"
      ],
      "metadata": {
        "colab": {
          "base_uri": "https://localhost:8080/",
          "height": 265
        },
        "id": "sxssePWSMwZu",
        "outputId": "2ce45039-fc5e-4ed3-922f-83f727b9dcc8"
      },
      "execution_count": 21,
      "outputs": [
        {
          "output_type": "display_data",
          "data": {
            "image/png": "[encoded data removed]",
            "text/plain": [
              "<Figure size 432x288 with 1 Axes>"
            ]
          },
          "metadata": {
            "needs_background": "light"
          }
        }
      ]
    },
    {
      "cell_type": "code",
      "source": [
        "sns.displot(DataForModel['Has_Online_delivery'].dropna());"
      ],
      "metadata": {
        "colab": {
          "base_uri": "https://localhost:8080/",
          "height": 369
        },
        "id": "R-Y2HyFFFFfQ",
        "outputId": "358818b7-7626-4c2b-bbee-4832998d3142"
      },
      "execution_count": 56,
      "outputs": [
        {
          "output_type": "display_data",
          "data": {
            "image/png": "[encoded data removed]",
            "text/plain": [
              "<Figure size 360x360 with 1 Axes>"
            ]
          },
          "metadata": {
            "needs_background": "light"
          }
        }
      ]
    },
    {
      "cell_type": "code",
      "source": [
        "xCol = DataForModel['Price_range'];\n",
        "yCol = new_data_set['Rating']\n",
        "plt.scatter(xCol,yCol);\n",
        "plt.show();"
      ],
      "metadata": {
        "colab": {
          "base_uri": "https://localhost:8080/",
          "height": 265
        },
        "id": "iDnmaCyXNCLZ",
        "outputId": "8f86ae06-8d29-4ef3-97f7-9cd7c819da89"
      },
      "execution_count": 22,
      "outputs": [
        {
          "output_type": "display_data",
          "data": {
            "image/png": "[encoded data removed]",
            "text/plain": [
              "<Figure size 432x288 with 1 Axes>"
            ]
          },
          "metadata": {
            "needs_background": "light"
          }
        }
      ]
    },
    {
      "cell_type": "code",
      "source": [
        "sns.displot(DataForModel['Price_range'].dropna());"
      ],
      "metadata": {
        "colab": {
          "base_uri": "https://localhost:8080/",
          "height": 369
        },
        "id": "Y98I85S4FMMC",
        "outputId": "c0b9b9f4-796a-4efd-ef4a-fbaadfd8c9c4"
      },
      "execution_count": 57,
      "outputs": [
        {
          "output_type": "display_data",
          "data": {
            "image/png": "[encoded data removed]",
            "text/plain": [
              "<Figure size 360x360 with 1 Axes>"
            ]
          },
          "metadata": {
            "needs_background": "light"
          }
        }
      ]
    },
    {
      "cell_type": "code",
      "source": [
        "#convert krnw nominal variable to numeric wlt \n",
        "DataForModelNumeric = pd.get_dummies(DataForModel);\n",
        "DataForModelNumeric['Rating'] = new_data_set['Rating'];\n",
        "print(DataForModelNumeric.head(2));"
      ],
      "metadata": {
        "colab": {
          "base_uri": "https://localhost:8080/"
        },
        "id": "-0rfYqZn6IC0",
        "outputId": "56bcdff6-e975-4234-e8f9-118d06c07344"
      },
      "execution_count": 23,
      "outputs": [
        {
          "output_type": "stream",
          "name": "stdout",
          "text": [
            "   Votes  Average_Cost_for_two  Has_Table_booking  Has_Online_delivery  \\\n",
            "0    314                  1100                  1                    0   \n",
            "1    591                  1200                  1                    0   \n",
            "\n",
            "   Price_range  Rating  \n",
            "0            3     4.8  \n",
            "1            3     4.5  \n"
          ]
        }
      ]
    },
    {
      "cell_type": "code",
      "source": [
        "print(\"DataForModelNumeric.shape : \",DataForModelNumeric.shape);"
      ],
      "metadata": {
        "colab": {
          "base_uri": "https://localhost:8080/"
        },
        "id": "WHivxb8IUf4L",
        "outputId": "4201ba44-963b-40d4-bb23-3f9939982649"
      },
      "execution_count": 24,
      "outputs": [
        {
          "output_type": "stream",
          "name": "stdout",
          "text": [
            "DataForModelNumeric.shape :  (9551, 6)\n"
          ]
        }
      ]
    },
    {
      "cell_type": "code",
      "source": [
        "print(\"DataForModelNumeric.info : \",DataForModelNumeric.info());"
      ],
      "metadata": {
        "colab": {
          "base_uri": "https://localhost:8080/"
        },
        "id": "unLqKRs4Ukga",
        "outputId": "85771326-e067-41c1-ded8-84635f09f23c"
      },
      "execution_count": 25,
      "outputs": [
        {
          "output_type": "stream",
          "name": "stdout",
          "text": [
            "<class 'pandas.core.frame.DataFrame'>\n",
            "RangeIndex: 9551 entries, 0 to 9550\n",
            "Data columns (total 6 columns):\n",
            " #   Column                Non-Null Count  Dtype  \n",
            "---  ------                --------------  -----  \n",
            " 0   Votes                 9551 non-null   int64  \n",
            " 1   Average_Cost_for_two  9551 non-null   int64  \n",
            " 2   Has_Table_booking     9551 non-null   int64  \n",
            " 3   Has_Online_delivery   9551 non-null   int64  \n",
            " 4   Price_range           9551 non-null   int64  \n",
            " 5   Rating                9551 non-null   float64\n",
            "dtypes: float64(1), int64(5)\n",
            "memory usage: 447.8 KB\n",
            "DataForModelNumeric.info :  None\n"
          ]
        }
      ]
    },
    {
      "cell_type": "code",
      "source": [
        "from sklearn.datasets import load_digits\n",
        "from sklearn.decomposition import PCA\n",
        "from sklearn.cluster import KMeans\n",
        "#Load Data\n",
        "pca = PCA(2)\n",
        "#Transform the data\n",
        "df = pca.fit_transform(DataForModelNumeric)\n",
        "#Import KMeans module\n",
        "from sklearn.cluster import KMeans\n",
        "#Initialize the class object\n",
        "kmeans = KMeans(n_clusters= 5)\n",
        "#predict the labels of clusters.\n",
        "label = kmeans.fit_predict(df) \n",
        "#Getting unique labels\n",
        "u_labels = nm.unique(label)\n",
        "u_labels = ['Votes','Average_Cost_for_two','Has_Table_booking','Has_Online_delivery','Price_range'];\n",
        "#plotting the results:\n",
        "for i in u_labels:\n",
        "     plt.scatter(df[label == i , 0] , df[label == i , 1] , label = i,marker='x',s=200)\n",
        "plt.legend()\n",
        "plt.show()"
      ],
      "metadata": {
        "colab": {
          "base_uri": "https://localhost:8080/",
          "height": 302
        },
        "id": "bW3uWTe9VZ5_",
        "outputId": "03d2004f-e600-44c4-9a77-9b51d9da7994"
      },
      "execution_count": 26,
      "outputs": [
        {
          "output_type": "stream",
          "name": "stderr",
          "text": [
            "/usr/local/lib/python3.7/dist-packages/ipykernel_launcher.py:19: FutureWarning: elementwise comparison failed; returning scalar instead, but in the future will perform elementwise comparison\n"
          ]
        },
        {
          "output_type": "display_data",
          "data": {
            "image/png": "[encoded data removed]",
            "text/plain": [
              "<Figure size 432x288 with 1 Axes>"
            ]
          },
          "metadata": {
            "needs_background": "light"
          }
        }
      ]
    },
    {
      "cell_type": "code",
      "source": [
        "from scipy import stats;\n",
        "import numpy as np;\n",
        "zValue = np.abs(stats.zscore(DataForModelNumeric)); \n",
        "print(zValue)\n",
        "withOutOutLiyers_data_set = DataForModelNumeric[(zValue < 5).all(axis=1)];\n",
        "print(withOutOutLiyers_data_set.head(3))"
      ],
      "metadata": {
        "colab": {
          "base_uri": "https://localhost:8080/"
        },
        "id": "nry6ClEndtL_",
        "outputId": "d576eb64-90ca-4b5e-af37-85a733b7c746"
      },
      "execution_count": 27,
      "outputs": [
        {
          "output_type": "stream",
          "name": "stdout",
          "text": [
            "[[3.65201639e-01 6.15438439e-03 2.69218148e+00 5.87546822e-01\n",
            "  1.31980312e+00 1.69096076e+00]\n",
            " [1.00916810e+00 4.89590650e-05 2.69218148e+00 5.87546822e-01\n",
            "  1.31980312e+00 1.42518840e+00]\n",
            " [2.62910937e-01 1.73742576e-01 2.69218148e+00 5.87546822e-01\n",
            "  2.42409043e+00 1.33659761e+00]\n",
            " ...\n",
            " [1.17190331e+00 6.38454785e-02 3.71445985e-01 5.87546822e-01\n",
            "  2.42409043e+00 7.16462104e-01]\n",
            " [1.72985259e+00 6.69471502e-02 3.71445985e-01 5.87546822e-01\n",
            "  2.42409043e+00 9.82234465e-01]\n",
            " [1.00916810e+00 7.09793235e-02 3.71445985e-01 5.87546822e-01\n",
            "  2.15515814e-01 9.82234465e-01]]\n",
            "   Votes  Average_Cost_for_two  Has_Table_booking  Has_Online_delivery  \\\n",
            "0    314                  1100                  1                    0   \n",
            "1    591                  1200                  1                    0   \n",
            "2    270                  4000                  1                    0   \n",
            "\n",
            "   Price_range  Rating  \n",
            "0            3     4.8  \n",
            "1            3     4.5  \n",
            "2            4     4.4  \n"
          ]
        }
      ]
    },
    {
      "cell_type": "markdown",
      "source": [
        ""
      ],
      "metadata": {
        "id": "nNva1vVzTTDn"
      }
    },
    {
      "cell_type": "markdown",
      "source": [
        ""
      ],
      "metadata": {
        "id": "J5Xiuu8Jeqg3"
      }
    },
    {
      "cell_type": "code",
      "source": [
        "#Reggression part ek start krnw"
      ],
      "metadata": {
        "id": "Jg8X1VtYZPXi"
      },
      "execution_count": 28,
      "outputs": []
    },
    {
      "cell_type": "code",
      "source": [
        "#Corerelation ek balala eke thin Variable atara stong the nadd balann\n",
        "corr = DataForModelNumeric.corr(method='kendall');\n",
        "#kotuwk size ek hadann 15,8\n",
        "plt.figure(figsize=(15,8))\n",
        "sns.heatmap(corr,annot=True);"
      ],
      "metadata": {
        "colab": {
          "base_uri": "https://localhost:8080/",
          "height": 350
        },
        "id": "f379ImW0Vi_a",
        "outputId": "b269befe-06d4-4d3b-e1e1-f7e9418612d2"
      },
      "execution_count": 29,
      "outputs": [
        {
          "output_type": "display_data",
          "data": {
            "image/png": "[encoded data removed]",
            "text/plain": [
              "<Figure size 1080x576 with 2 Axes>"
            ]
          },
          "metadata": {
            "needs_background": "light"
          }
        }
      ]
    },
    {
      "cell_type": "code",
      "source": [
        "#okedi pena wadim corelationship ek votes,rating eki atr 0.68i kiyl e hind e dek atar eccr hithann one nh"
      ],
      "metadata": {
        "id": "6NHs6xZdZsDO"
      },
      "execution_count": 100,
      "outputs": []
    },
    {
      "cell_type": "code",
      "source": [
        "#model - sklearn eke thinw model selection library ekk\n",
        "#Traning set ek :  model ek train krnni,eke optimization krnni \n",
        "    #  x train , y train\n",
        "#Testing set ek :  model eke performance blanni\n",
        "    #  x test , y test"
      ],
      "metadata": {
        "id": "bkam9zd4aw7v"
      },
      "execution_count": 101,
      "outputs": []
    },
    {
      "cell_type": "code",
      "source": [
        "#      cross validation\n",
        "#  data set eke test/train : 25%/75% , test/train : 75%/25% vidiyt vivid parima walin arn ek ek machin \n",
        "#  learning algorithm ekkt dala ckeck krl blnw adum error thin  algorithm ek thor gannawa model ek hadann\n",
        "# algorithm vidiyt use krnw 1 : support vector macin, deep learning, random forest, kmean .....owain ekk thm anithit thor ganne\n",
        "# cross validation yoda gnn puluwn hyper parameeter tun krnn hod agyk hit gnnt"
      ],
      "metadata": {
        "id": "X9E2rRGq4ffM"
      },
      "execution_count": 102,
      "outputs": []
    },
    {
      "cell_type": "code",
      "source": [
        "plt.figure(figsize=(15,6));\n",
        "dataf = data_set['RestaurantName'].value_counts()[:10];\n",
        "sns.barplot(y=dataf.index,x=dataf.values);\n",
        "plt.title('World Famous Resturants(Top 10)');\n",
        "plt.xlabel('Resturants Count ');\n",
        "plt.show();"
      ],
      "metadata": {
        "colab": {
          "base_uri": "https://localhost:8080/",
          "height": 424
        },
        "id": "y-Opp28mGHuK",
        "outputId": "a51402db-1205-418b-c91b-31c24abeee82"
      },
      "execution_count": 71,
      "outputs": [
        {
          "output_type": "display_data",
          "data": {
            "image/png": "[encoded data removed]",
            "text/plain": [
              "<Figure size 1080x432 with 1 Axes>"
            ]
          },
          "metadata": {
            "needs_background": "light"
          }
        }
      ]
    },
    {
      "cell_type": "code",
      "source": [
        "plt.figure(figsize=(15,6));\n",
        "dataf = data_set['Address'].value_counts()[:10];\n",
        "sns.barplot(y=dataf.index,x=dataf.values);\n",
        "plt.title('World Famous Resturants Address(Top 10)');\n",
        "plt.xlabel('Count of Resturants');\n",
        "plt.show();"
      ],
      "metadata": {
        "colab": {
          "base_uri": "https://localhost:8080/",
          "height": 216
        },
        "id": "YHXT9J2GKFC8",
        "outputId": "b6ddd452-a69a-405c-91db-fffb49ddf306"
      },
      "execution_count": 72,
      "outputs": [
        {
          "output_type": "display_data",
          "data": {
            "image/png": "[encoded data removed]",
            "text/plain": [
              "<Figure size 1080x432 with 1 Axes>"
            ]
          },
          "metadata": {
            "needs_background": "light"
          }
        }
      ]
    },
    {
      "cell_type": "code",
      "source": [
        "onlineOrderSupportCount = DataForModel['Has_Online_delivery'].value_counts();\n",
        "tableBookingSupportCount = DataForModel['Has_Table_booking'].value_counts();\n",
        "costForTwoSupportCount = DataForModel['Average_Cost_for_two'].value_counts();\n",
        "print('');\n",
        "print('onlineOrderSupportCount : ','\\n',onlineOrderSupportCount);\n",
        "print('');\n",
        "print('tableBookingSupportCount : ','\\n',tableBookingSupportCount)\n",
        "print('');\n",
        "print('costForTwoSupportCount : ','\\n',costForTwoSupportCount);"
      ],
      "metadata": {
        "colab": {
          "base_uri": "https://localhost:8080/"
        },
        "id": "yuctbtcTMAKO",
        "outputId": "7bd0e4bd-358b-47d4-fafa-b36ce7168306"
      },
      "execution_count": 79,
      "outputs": [
        {
          "output_type": "stream",
          "name": "stdout",
          "text": [
            "\n",
            "onlineOrderSupportCount :  \n",
            " 0    7100\n",
            "1    2451\n",
            "Name: Has_Online_delivery, dtype: int64\n",
            "\n",
            "tableBookingSupportCount :  \n",
            " 0    8393\n",
            "1    1158\n",
            "Name: Has_Table_booking, dtype: int64\n",
            "\n",
            "costForTwoSupportCount :  \n",
            " 500       900\n",
            "300       897\n",
            "400       857\n",
            "200       687\n",
            "600       652\n",
            "         ... \n",
            "8000        1\n",
            "2350        1\n",
            "150000      1\n",
            "70000       1\n",
            "545         1\n",
            "Name: Average_Cost_for_two, Length: 140, dtype: int64\n"
          ]
        }
      ]
    },
    {
      "cell_type": "code",
      "source": [
        "plt.figure(figsize=(10,10));\n",
        "sns.countplot(DataForModel['Has_Online_delivery']);\n",
        "plt.title('Total Online Delivery (1 = YES , 0 = No)');\n",
        "plt.show();"
      ],
      "metadata": {
        "colab": {
          "base_uri": "https://localhost:8080/",
          "height": 677
        },
        "id": "ww35O0QaM9yB",
        "outputId": "ddd8446f-c916-446c-ad45-edd148568a92"
      },
      "execution_count": 84,
      "outputs": [
        {
          "output_type": "stream",
          "name": "stderr",
          "text": [
            "/usr/local/lib/python3.7/dist-packages/seaborn/_decorators.py:43: FutureWarning: Pass the following variable as a keyword arg: x. From version 0.12, the only valid positional argument will be `data`, and passing other arguments without an explicit keyword will result in an error or misinterpretation.\n",
            "  FutureWarning\n"
          ]
        },
        {
          "output_type": "display_data",
          "data": {
            "image/png": "[encoded data removed]",
            "text/plain": [
              "<Figure size 720x720 with 1 Axes>"
            ]
          },
          "metadata": {
            "needs_background": "light"
          }
        }
      ]
    },
    {
      "cell_type": "code",
      "source": [
        "plt.figure(figsize=(10,10));\n",
        "sns.countplot(DataForModel['Has_Table_booking']);\n",
        "plt.title('Table Booking (1 = YES , 0 = No)');\n",
        "plt.show();"
      ],
      "metadata": {
        "colab": {
          "base_uri": "https://localhost:8080/",
          "height": 677
        },
        "id": "QIlSvXHzN2lc",
        "outputId": "f093276c-b3e6-4260-9867-8712fb0dbc67"
      },
      "execution_count": 75,
      "outputs": [
        {
          "output_type": "stream",
          "name": "stderr",
          "text": [
            "/usr/local/lib/python3.7/dist-packages/seaborn/_decorators.py:43: FutureWarning: Pass the following variable as a keyword arg: x. From version 0.12, the only valid positional argument will be `data`, and passing other arguments without an explicit keyword will result in an error or misinterpretation.\n",
            "  FutureWarning\n"
          ]
        },
        {
          "output_type": "display_data",
          "data": {
            "image/png": "[encoded data removed]",
            "text/plain": [
              "<Figure size 720x720 with 1 Axes>"
            ]
          },
          "metadata": {
            "needs_background": "light"
          }
        }
      ]
    },
    {
      "cell_type": "code",
      "source": [
        "#             Data Transformation : datta pariwarthanaya\n",
        "'''\n",
        " use krn Algorithm -> KNN - K nearest neibors , K-Mean , PCA-Principale Compoenent Analysis , Gradient Desent \n",
        " use karanne na      -> Tree base algorithm wldi : Decision Tree/Random forest(decision tree godak)\n",
        "\n",
        "     ek colum ekk values wl agay aneth colum wlt sapenshawa hugak adu/wadi unot e colum ek ekt machin learning model ek \n",
        "     naburu wenn puluwn. ekt kiynne BIAS wenw kiyl. ok mag arinn thm data trasformation krnne\n",
        "\n",
        "     krama : 1 : min max scaler : e colum eke data serm 0-1 parasayata ganna \n",
        "                 ex -> value =(x-x_min)/(x_max-x_min)\n",
        "\n",
        "                 python code :\n",
        "                 from sklearn.preprocessing import MinMaxScaler\n",
        "                 scaler=MinMaxScaler(); // 0-1 th parasaye\n",
        "                 #scaler=MinMaxScaler(feature_range=(0,10)); // 0-10 th prayayat\n",
        "                 new_data_set['colum name'] = scaler.fit_transform(data_set.values);\n",
        "                 print(new_data_set);\n",
        "\n",
        "             2 : standerd scaler    : mean agaya math padanawa\n",
        "                 python code :\n",
        "                 from sklearn.preprocessing import SatnderdScaler\n",
        "                 scaler=SatnderdScaler(); \n",
        "                 new_data_set['colum name'] = scaler.fit_transform(data_set.values);\n",
        "                 print(new_data_set);\n",
        "\n",
        "             3 : Maxabs scaler    : maximum agaya matha padanamwa ok\n",
        "                 python code :\n",
        "                 from sklearn.preprocessing import MaxAbsScaler\n",
        "                 scaler=MaxAbsScaler(); \n",
        "                 new_data_set['colum name'] = scaler.fit_transform(data_set.values);\n",
        "                 print(new_data_set); \n",
        "\n",
        "             4 : Robust scaler    : anthas chathurthaya prasaya math padnamwa\n",
        "                 x_scale = (x-Q1)/(Q3-Q1) ;\n",
        "                 python code :\n",
        "                 from sklearn.preprocessing import RobustScaler\n",
        "                 scaler=RobustScaler(); \n",
        "                 new_data_set['colum name'] = scaler.fit_transform(data_set.values);\n",
        "                 print(new_data_set);\n",
        "\n",
        "             5 : Log transform :     ektara antharakata nburu u data : vishala parasayak thin ew data 2k atara colum eke    income :{70000,2000}  \n",
        "                 transformed_data_set['colum'] = np.log(data_set['colum']);\n",
        "''' "
      ],
      "metadata": {
        "id": "x6fEl77Lm6qO"
      },
      "execution_count": null,
      "outputs": []
    },
    {
      "cell_type": "code",
      "source": [
        "#Separate krnawa Target/Predictors variable tik\n",
        "TargetVariable = 'Rating';\n",
        "Predictors = ['Votes','Average_Cost_for_two','Has_Table_booking','Has_Online_delivery','Price_range'];\n",
        "#Predictors = ['Votes'];\n",
        "\n",
        "x= DataForModelNumeric[Predictors].values;\n",
        "#x = DataForModel.reshape(1000,1);\n",
        "#xx=x.values; \n",
        "y= DataForModelNumeric[TargetVariable].values; \n",
        "#y= DataForModelNumeric.reshape(1000,1);\n",
        "#yy=y.values;"
      ],
      "metadata": {
        "id": "F2XKQgQghQMp"
      },
      "execution_count": 30,
      "outputs": []
    },
    {
      "cell_type": "code",
      "source": [
        "from sklearn.preprocessing import MinMaxScaler;\n",
        "#scaler=MinMaxScaler();\n",
        "scaler=MinMaxScaler(feature_range=(0,10));\n",
        "transformed_data_set = scaler.fit_transform(x);\n",
        "print(transformed_data_set);"
      ],
      "metadata": {
        "colab": {
          "base_uri": "https://localhost:8080/"
        },
        "id": "gLZoLeFGqN4g",
        "outputId": "3a32fea3-c4dd-4603-e8de-8583a194c2ac"
      },
      "execution_count": 31,
      "outputs": [
        {
          "output_type": "stream",
          "name": "stdout",
          "text": [
            "[[2.87177611e-01 1.37500000e-02 1.00000000e+01 0.00000000e+00\n",
            "  6.66666667e+00]\n",
            " [5.40515822e-01 1.50000000e-02 1.00000000e+01 0.00000000e+00\n",
            "  6.66666667e+00]\n",
            " [2.46936162e-01 5.00000000e-02 1.00000000e+01 0.00000000e+00\n",
            "  1.00000000e+01]\n",
            " ...\n",
            " [6.04536309e-01 2.12500000e-03 0.00000000e+00 0.00000000e+00\n",
            "  1.00000000e+01]\n",
            " [8.24035120e-01 1.50000000e-03 0.00000000e+00 0.00000000e+00\n",
            "  1.00000000e+01]\n",
            " [5.40515822e-01 6.87500000e-04 0.00000000e+00 0.00000000e+00\n",
            "  3.33333333e+00]]\n"
          ]
        }
      ]
    },
    {
      "cell_type": "code",
      "source": [
        "#                        Machin Learning Model\n",
        "\n"
      ],
      "metadata": {
        "id": "P8zaG9RSwVWS"
      },
      "execution_count": null,
      "outputs": []
    },
    {
      "cell_type": "code",
      "source": [
        "#Data model ek train / Test kiyl kali dekkkt wen krnn\n",
        "from sklearn.model_selection import train_test_split;"
      ],
      "metadata": {
        "id": "nRmgcVXIPryw"
      },
      "execution_count": 32,
      "outputs": []
    },
    {
      "cell_type": "code",
      "source": [
        "x_train, y_train , x_test , y_test = train_test_split(x,y,test_size = 0.2,random_state = 421);\n",
        "\n",
        "print(\"X-Training data set shape : \",x_train.shape);\n",
        "print(\"X-Test data set shape     : \",x_test.shape);\n",
        "print(\"Y Train data set shape    : \",y_train.shape);\n",
        "print(\"Y Test data set shape     : \",y_test.shape);"
      ],
      "metadata": {
        "colab": {
          "base_uri": "https://localhost:8080/"
        },
        "id": "qnTxqXNNax9p",
        "outputId": "7b090636-81fd-4d6c-a997-1937f14745a4"
      },
      "execution_count": 33,
      "outputs": [
        {
          "output_type": "stream",
          "name": "stdout",
          "text": [
            "X-Training data set shape :  (7640, 5)\n",
            "X-Test data set shape     :  (7640,)\n",
            "Y Train data set shape    :  (1911, 5)\n",
            "Y Test data set shape     :  (1911,)\n"
          ]
        }
      ]
    },
    {
      "cell_type": "code",
      "source": [
        "\n",
        "x_train_mode=x_train.reshape(7640,5);\n",
        "y_train_mode=y_train.reshape(1911,5);\n",
        "\n",
        "x_test_mode=x_test.reshape(7640,1);\n",
        "y_test_mode=y_test.reshape(1911,);\n",
        "'''\n",
        "x_train_mode=x_train.reshape(1,-1);\n",
        "y_train_mode=y_train.reshape(-1,1);\n",
        "x_test_mode=x_test.reshape(1,-1);\n",
        "y_test_mode=y_test.reshape(1,-1);\n",
        "'''\n"
      ],
      "metadata": {
        "colab": {
          "base_uri": "https://localhost:8080/",
          "height": 53
        },
        "id": "zYJVvO58xSQN",
        "outputId": "53502504-9668-49a3-9eef-42652b5b60f6"
      },
      "execution_count": 34,
      "outputs": [
        {
          "output_type": "execute_result",
          "data": {
            "application/vnd.google.colaboratory.intrinsic+json": {
              "type": "string"
            },
            "text/plain": [
              "'\\nx_train_mode=x_train.reshape(1,-1);\\ny_train_mode=y_train.reshape(-1,1);\\nx_test_mode=x_test.reshape(1,-1);\\ny_test_mode=y_test.reshape(1,-1);\\n'"
            ]
          },
          "metadata": {},
          "execution_count": 34
        }
      ]
    },
    {
      "cell_type": "code",
      "source": [
        "#                         0 : Accuracy check in Support Vector Model                             "
      ],
      "metadata": {
        "id": "Knrq0I7B0vBt"
      },
      "execution_count": null,
      "outputs": []
    },
    {
      "cell_type": "code",
      "source": [
        "'''\n",
        "from sklearn import svm;\n",
        "suportVectorModel = svm.SVC();\n",
        "suportVectorModel.fit(x_train_mode,y_train_mode.ravel(),sample_weight=500);//err ek awa\n",
        "supportVectorModelAccuracy = suportVectorModel.score(x_test_mode,y_test_mode);\n",
        "print('supportVectorModelAccuracy : ',supportVectorModelAccuracy);\n",
        "'''"
      ],
      "metadata": {
        "id": "xbmtam1Wwg0P"
      },
      "execution_count": null,
      "outputs": []
    },
    {
      "cell_type": "code",
      "source": [
        "#                      1 : Accuracy Lineer Regrresion model\n"
      ],
      "metadata": {
        "id": "t67QjtIISc4D"
      },
      "execution_count": null,
      "outputs": []
    },
    {
      "cell_type": "code",
      "source": [
        "from locale import normalize\n",
        "from sklearn.linear_model import LinearRegression;\n",
        "from sklearn.model_selection import train_test_split;\n",
        "x_train,x_test,y_train,y_test=train_test_split(x,y,test_size=.2,random_state=10);\n",
        "Lmodel = LinearRegression();\n",
        "Lmodel.fit(x_train,y_train);\n",
        "print('');\n",
        "LinearRegression(copy_X=True,fit_intercept=True,n_jobs=None,normalize=False);\n",
        "\n",
        "print(\"Lmodel.intercept_ : \",Lmodel.intercept_);\n",
        "print(\"Lmodel.coef (correlation efficient) : \",Lmodel.coef_);\n",
        "\n",
        "from sklearn.metrics import r2_score;\n",
        "from sklearn.metrics import accuracy_score,confusion_matrix,classification_report;\n",
        "y_predict = Lmodel.predict(x_test);\n",
        "R2_Score = r2_score(y_test,y_predict);\n",
        "R2Lmodel_Score = R2_Score;\n",
        "\n",
        "print(\" Lineer Regrresion model R2 SCORE : \",R2_Score);\n",
        "\n",
        "'''\n",
        "Model Evaluation\n",
        "There are three primary metrics used to evaluate linear models. These are: Mean absolute error (MAE), Mean squared error (MSE), \n",
        "or Root mean squared error (RMSE).\n",
        "MAE: The easiest to understand. Represents average error\n",
        "MSE: Similar to MAE but noise is exaggerated and larger errors are “punished”.\n",
        " It is harder to interpret than MAE as it’s not in base units, however, it is generally more popular.\n",
        "'''\n",
        "from sklearn import metrics\n",
        "Mean_Absolute_Error= metrics.mean_absolute_error(y_test, y_predict);\n",
        "Mean_Squared_Error=metrics.mean_squared_error(y_test, y_predict);\n",
        "Root_Mean_Squared_Error= np.sqrt(metrics.mean_squared_error(y_test, y_predict));\n",
        "\n",
        "print(\"\");\n",
        "print('Mean Absolute Error : ', Mean_Absolute_Error);\n",
        "print('Mean Squared Error : ', Mean_Squared_Error);\n",
        "print('Root Mean Squared Error : ', Root_Mean_Squared_Error);\n",
        "\n"
      ],
      "metadata": {
        "colab": {
          "base_uri": "https://localhost:8080/"
        },
        "id": "Gu9_z1R5Srlo",
        "outputId": "4abe449b-02b9-4a0c-80b8-60d7dfb4bf9b"
      },
      "execution_count": 133,
      "outputs": [
        {
          "output_type": "stream",
          "name": "stdout",
          "text": [
            "\n",
            "Lmodel.intercept_ :  1.7897163986508051\n",
            "Lmodel.coef (correlation efficient) :  [ 5.63716167e-04  1.20025250e-06 -2.25427344e-01  4.37579160e-01\n",
            "  5.13763243e-01]\n",
            " Lineer Regrresion model R2 SCORE :  0.29072125706980445\n",
            "\n",
            "Mean Absolute Error :  0.7866759462710213\n",
            "Mean Squared Error :  0.8923769438705131\n",
            "Root Mean Squared Error :  0.9446570509293376\n"
          ]
        }
      ]
    },
    {
      "cell_type": "code",
      "source": [
        "#                    2 : Accuracy  RandomForest Reggression model\n"
      ],
      "metadata": {
        "id": "AE6LKGEqVpK5"
      },
      "execution_count": null,
      "outputs": []
    },
    {
      "cell_type": "code",
      "source": [
        "from sklearn.ensemble import RandomForestRegressor;\n",
        "from sklearn.model_selection import train_test_split;\n",
        "x_train,x_test,y_train,y_test=train_test_split(x,y,test_size=.3,random_state=10);\n",
        "Rmodel=RandomForestRegressor(n_estimators=650,random_state=230,min_samples_leaf=0.0001);\n",
        "Rmodel.fit(x_train,y_train);\n",
        "y_predict=Rmodel.predict(x_test);\n",
        "R2_Score = r2_score(y_test,y_predict);\n",
        "R2RFmodel_Score = R2_Score;\n",
        "\n",
        "print(\" RandomForest Reggression model R2 SCORE : \",R2_Score);\n",
        "\n",
        "#model ek evaluate krnn\n",
        "from sklearn import metrics\n",
        "Mean_Absolute_Error= metrics.mean_absolute_error(y_test, y_predict);\n",
        "Mean_Squared_Error=metrics.mean_squared_error(y_test, y_predict);\n",
        "Root_Mean_Squared_Error= np.sqrt(metrics.mean_squared_error(y_test, y_predict));\n",
        "\n",
        "print(\"\");\n",
        "print('Mean Absolute Error : ', Mean_Absolute_Error);\n",
        "print('Mean Squared Error : ', Mean_Squared_Error);\n",
        "print('Root Mean Squared Error : ', Root_Mean_Squared_Error);\n",
        "\n",
        "\n",
        "'''\n",
        "#Random forest classifier\n",
        "\n",
        "from sklearn.metrics import classification_report, confusion_matrix, accuracy_score;\n",
        "from sklearn.ensemble import RandomForestClassifier;\n",
        "x_train,x_test,y_train,y_test=train_test_split(x,y,test_size=.3,random_state=10);\n",
        "RFmodel = RandomForestClassifier(n_estimators=650,random_state=230,min_samples_leaf=0.0001);\n",
        "RFmodel.fit(x_train,y_train);\n",
        "y_predict=RFmodel.predict(x_test);\n",
        "R2_Score = r2_score(y_test,y_predict);\n",
        "print(\" RandomForest Classifeier model R2 SCORE : \",R2_Score);\n",
        "\n",
        "#Accuracy\n",
        "from sklearn.metrics import classification_report, confusion_matrix, accuracy_score;\n",
        "#print(\"Accuracy :  \",accuracy_score(y_test,y_predict));\n",
        "print(\"classification_report : \",classification_report(y_test,y_predict));\n",
        "print(\"confusion_matrix : \",confusion_matrix(y_test,y_predict));\n",
        "'''\n",
        "\n",
        "\n",
        "\n"
      ],
      "metadata": {
        "colab": {
          "base_uri": "https://localhost:8080/",
          "height": 296
        },
        "id": "OBdxatlvV694",
        "outputId": "14b7575d-af59-4fba-8011-3732e651e77e"
      },
      "execution_count": 134,
      "outputs": [
        {
          "output_type": "stream",
          "name": "stdout",
          "text": [
            " RandomForest Reggression model R2 SCORE :  0.8934603098714542\n",
            "\n",
            "Mean Absolute Error :  0.23553054640014653\n",
            "Mean Squared Error :  0.13363686314730205\n",
            "Root Mean Squared Error :  0.3655637607139171\n"
          ]
        },
        {
          "output_type": "execute_result",
          "data": {
            "application/vnd.google.colaboratory.intrinsic+json": {
              "type": "string"
            },
            "text/plain": [
              "'\\n#Random forest classifier\\n\\nfrom sklearn.metrics import classification_report, confusion_matrix, accuracy_score;\\nfrom sklearn.ensemble import RandomForestClassifier;\\nx_train,x_test,y_train,y_test=train_test_split(x,y,test_size=.3,random_state=10);\\nRFmodel = RandomForestClassifier(n_estimators=650,random_state=230,min_samples_leaf=0.0001);\\nRFmodel.fit(x_train,y_train);\\ny_predict=RFmodel.predict(x_test);\\nR2_Score = r2_score(y_test,y_predict);\\nprint(\" RandomForest Classifeier model R2 SCORE : \",R2_Score);\\n\\n#Accuracy\\nfrom sklearn.metrics import classification_report, confusion_matrix, accuracy_score;\\n#print(\"Accuracy :  \",accuracy_score(y_test,y_predict));\\nprint(\"classification_report : \",classification_report(y_test,y_predict));\\nprint(\"confusion_matrix : \",confusion_matrix(y_test,y_predict));\\n'"
            ]
          },
          "metadata": {},
          "execution_count": 134
        }
      ]
    },
    {
      "cell_type": "code",
      "source": [
        "#                            3 : Accuracy ExtraTree Regression "
      ],
      "metadata": {
        "id": "NQQ9E0fbbUiL"
      },
      "execution_count": null,
      "outputs": []
    },
    {
      "cell_type": "code",
      "source": [
        "import sklearn;\n",
        "from sklearn.ensemble import ExtraTreesRegressor;\n",
        "x_train,x_test,y_train,y_test=train_test_split(x,y,test_size=.3,random_state=10);\n",
        "print(\"X-Training data set shape : \",x_train.shape);\n",
        "print(\"X-Test data set shape     : \",x_test.shape);\n",
        "print(\"Y Train data set shape    : \",y_train.shape);\n",
        "print(\"Y Test data set shape     : \",y_test.shape);\n",
        "#Prepar krnw Extra Tree Regression\n",
        "from sklearn.ensemble import  ExtraTreesRegressor\n",
        "ET_Model=ExtraTreesRegressor(n_estimators = 120);\n",
        "ET_Model.fit(x_train,y_train);\n",
        "y_predict= ET_Model.predict(x_test);\n",
        "\n",
        "#  Save krnw model ek disk ekt actual values dala test krnn puluwn wenn \n",
        "#  model ek actual data dala prectict krl result kr\n",
        "import pickle;\n",
        "pickle.dump(ET_Model, open('model.pkl','wb'));\n",
        "model=pickle.load(open('model.pkl','rb'));\n",
        "\n",
        "print(' ');\n",
        "print(\"y_predict(Rating) -> : \",y_predict);\n",
        "\n",
        "#  R2 Score ek hoyanna\n",
        "from sklearn.metrics import r2_score;\n",
        "R2_Score = r2_score(y_test,y_predict);\n",
        "R2ETmodel_Score = R2_Score;\n",
        "\n",
        "print(\" \");\n",
        "print('ExtraTree Regression  model R2 Score : ',R2_Score);\n",
        "\n",
        "'''\n",
        "Model Evaluate krnn\n",
        "'''\n",
        "from sklearn import metrics\n",
        "Mean_Absolute_Error= metrics.mean_absolute_error(y_test, y_predict);\n",
        "Mean_Squared_Error=metrics.mean_squared_error(y_test, y_predict);\n",
        "Root_Mean_Squared_Error= np.sqrt(metrics.mean_squared_error(y_test, y_predict));\n",
        "\n",
        "print(\"\");\n",
        "print('Mean Absolute Error : ', Mean_Absolute_Error);\n",
        "print('Mean Squared Error : ', Mean_Squared_Error);\n",
        "print('Root Mean Squared Error : ', Root_Mean_Squared_Error);"
      ],
      "metadata": {
        "colab": {
          "base_uri": "https://localhost:8080/"
        },
        "id": "O8-_B2vXbKdO",
        "outputId": "9a116f70-9b21-43ca-d86d-f9e3645052c4"
      },
      "execution_count": 150,
      "outputs": [
        {
          "output_type": "stream",
          "name": "stdout",
          "text": [
            "X-Training data set shape :  (6685, 5)\n",
            "X-Test data set shape     :  (2866, 5)\n",
            "Y Train data set shape    :  (6685,)\n",
            "Y Test data set shape     :  (2866,)\n",
            " \n",
            "y_predict(Rating) -> :  [3.4        4.3575     3.87666667 ... 3.69166667 3.         3.61666667]\n",
            " \n",
            "ExtraTree Regression  model R2 Score :  0.8730045485347031\n",
            "\n",
            "Mean Absolute Error :  0.2555597935073251\n",
            "Mean Squared Error :  0.1592953175227091\n",
            "Root Mean Squared Error :  0.3991181748839673\n"
          ]
        }
      ]
    },
    {
      "cell_type": "code",
      "source": [
        "#                  Hodama / Best Model ek thor gann ek \n",
        "'''\n",
        " Reggression Model ekkdi    : R-SQURE / R2 value ek wadim ek gann \n",
        " Classification Model Ekkdi : Acuracy ek wadim ek ganna\n",
        "'''"
      ],
      "metadata": {
        "id": "6m_Vyn5FqPMp"
      },
      "execution_count": null,
      "outputs": []
    },
    {
      "cell_type": "code",
      "source": [
        "print('Linear Regression                     R2 Score : ',R2Lmodel_Score); \n",
        "print('Random Forest Regression              R2 Score : ',R2RFmodel_Score); \n",
        "print('ExternalTree Regression               R  Score : ',R2ETmodel_Score); "
      ],
      "metadata": {
        "colab": {
          "base_uri": "https://localhost:8080/"
        },
        "id": "pcjTTGzQqnj8",
        "outputId": "78471d22-0c8b-4025-958d-30ec355ca11d"
      },
      "execution_count": 139,
      "outputs": [
        {
          "output_type": "stream",
          "name": "stdout",
          "text": [
            "Linear Regression                     R2 Score :  0.29072125706980445\n",
            "Random Forest Regression              R2 Score :  0.8934603098714542\n",
            "ExternalTree Regression               R  Score :  0.8733074216838871\n"
          ]
        }
      ]
    },
    {
      "cell_type": "code",
      "source": [
        "#                                       Actual Data DaLA test krnw\n",
        "\n"
      ],
      "metadata": {
        "id": "8opGBqGdzNUn"
      },
      "execution_count": null,
      "outputs": []
    },
    {
      "cell_type": "code",
      "source": [
        "print(DataForModelNumeric);"
      ],
      "metadata": {
        "id": "48O1vdqizXDj"
      },
      "execution_count": null,
      "outputs": []
    },
    {
      "cell_type": "code",
      "source": [
        "Predictors = ['Votes','Average_Cost_for_two','Has_Table_booking','Has_Online_delivery','Price_range'];\n",
        "new_samples_data=pd.DataFrame(data=[[591,1200,1,0,3],[10,4000,1,0,4]],columns=Predictors);\n",
        "#print(new_samples_data);\n",
        "\n",
        "model=pickle.load(open('model.pkl','rb'));\n",
        "#model.fit(x,y,x_train,y_train)\n",
        "result = model.predict(new_samples_data);\n",
        "print(result);\n",
        "\n",
        "\n",
        "#prediction = classifier.predict(std_data)\n",
        "#print(prediction)\n",
        "\n"
      ],
      "metadata": {
        "colab": {
          "base_uri": "https://localhost:8080/"
        },
        "id": "zLlr1OxBzUKS",
        "outputId": "8b791c60-8b8d-4af8-e09e-cfcb64566dd2"
      },
      "execution_count": 153,
      "outputs": [
        {
          "output_type": "stream",
          "name": "stdout",
          "text": [
            "[4.5        3.23333333]\n"
          ]
        },
        {
          "output_type": "stream",
          "name": "stderr",
          "text": [
            "/usr/local/lib/python3.7/dist-packages/sklearn/base.py:444: UserWarning: X has feature names, but ExtraTreesRegressor was fitted without feature names\n",
            "  f\"X has feature names, but {self.__class__.__name__} was fitted without\"\n"
          ]
        }
      ]
    },
    {
      "cell_type": "code",
      "source": [
        "#                   Rest Service ek Craete krnw Flask request yawann\n"
      ],
      "metadata": {
        "id": "LB1_6tvSHQ7K"
      },
      "execution_count": null,
      "outputs": []
    },
    {
      "cell_type": "code",
      "source": [
        "from flask import Flask, request, jsonify, make_response;\n",
        "#from flask_restful import Resource, Api;\n",
        "#from marshmallow import fields;\n",
        "#from marshmallow_sqlalchemy import ModelSchema;\n",
        "\n",
        "app = Flask(__name__)\n",
        "\n",
        "#create krnw end point\n",
        "@app.route('/api/v1/model', methods=['POST'])\n",
        "def post_request_function():\n",
        "    data = request.get_json();\n",
        "    return make_response(jsonify({\"key_name\": data}),200);\n",
        "\n",
        "@app.route('/api/v1/model', methods=['GET'])\n",
        "def get_request_function():\n",
        "    data = request.get_json();\n",
        "    return make_response(jsonify({\"key_name\": data}),200);\n",
        "\n",
        "@app.route('/api/v1/model/<id>', methods=['PUT'])\n",
        "def update_request_function(id):\n",
        "    data = request.get_json();\n",
        "    return make_response(jsonify({\"key_name\": data}),200);\n",
        "\n",
        "@app.route('/api/v1/model/<id>', methods=['DELETE'])\n",
        "def delete_request_function(id):\n",
        "    data = request.get_json();\n",
        "    return make_response(jsonify({\"key_name\": data}),204);\n",
        "\n",
        "#app run krnn flask run    "
      ],
      "metadata": {
        "id": "uc0B91vFHZgN"
      },
      "execution_count": null,
      "outputs": []
    },
    {
      "cell_type": "code",
      "source": [
        "'''\n",
        "#api erro ek hadann le=inear regression eke FIX ValueError: Found input variables with inconsistent numbers of samples: [4775, 4776]\n",
        "#x = DataForModeNumeric.iloc[:, :0];\n",
        "#y = DataForModeNumeric.iloc[:2];\n",
        "\n",
        "#one demenshinal array ekk two demension kl x_5 = nm.array([0.1,1.2,2.4,3.2,4.5,5.7,6.5]);\n",
        "x_5 = nm.array([[0.1,1.2,2.4,3.2,4.5,5.7,6.5]]).transpose();#reshape\n",
        "y_5 = nm.array([0.6,1.0,2.8,3.2,4.9,5.1,6.8]).reshape(7,1);#reshape\n",
        "\n",
        "\n",
        "print(x_5.shape)\n",
        "print(y_5.shape)\n",
        "\n",
        "#Linear Regreesion balann\n",
        "from sklearn.linear_model import LinearRegression;\n",
        "reg=LinearRegression();\n",
        "reg.fit(x_5,y_5);\n",
        "print(reg)\n",
        "print('Theta 0 intercept    : ',reg.intercept_[0])\n",
        "print('Theta 1 coreefficent :  ',reg.coef_[0][0])\n",
        "\n",
        "plt.scatter(x_5,y_5,s=x_5)\n",
        "plt.plot(x_5,reg.predict(x_5),color=\"red\",linewidth=3)\n",
        "plt.xlabel('X 5 Values')\n",
        "plt.ylabel('Y 5 Values')\n",
        "plt.show()\n",
        "\n",
        "'''"
      ],
      "metadata": {
        "colab": {
          "base_uri": "https://localhost:8080/",
          "height": 209
        },
        "id": "HUn049aZgCJL",
        "outputId": "15869e05-2e29-4770-ad64-e25e6e3097e6"
      },
      "execution_count": 124,
      "outputs": [
        {
          "output_type": "execute_result",
          "data": {
            "application/vnd.google.colaboratory.intrinsic+json": {
              "type": "string"
            },
            "text/plain": [
              "'\\n#FIX ValueError: Found input variables with inconsistent numbers of samples: [4775, 4776]\\n#x = DataForModeNumeric.iloc[:, :0];\\n#y = DataForModeNumeric.iloc[:2];\\n\\n#one demenshinal array ekk two demension kl x_5 = nm.array([0.1,1.2,2.4,3.2,4.5,5.7,6.5]);\\nx_5 = nm.array([[0.1,1.2,2.4,3.2,4.5,5.7,6.5]]).transpose();#reshape\\ny_5 = nm.array([0.6,1.0,2.8,3.2,4.9,5.1,6.8]).reshape(7,1);#reshape\\n\\n\\nprint(x_5.shape)\\nprint(y_5.shape)\\n\\n#Linear Regreesion balann\\nfrom sklearn.linear_model import LinearRegression;\\nreg=LinearRegression();\\nreg.fit(x_5,y_5);\\nprint(reg)\\nprint(\\'Theta 0 intercept    : \\',reg.intercept_[0])\\nprint(\\'Theta 1 coreefficent :  \\',reg.coef_[0][0])\\n\\nplt.scatter(x_5,y_5,s=x_5)\\nplt.plot(x_5,reg.predict(x_5),color=\"red\",linewidth=3)\\nplt.xlabel(\\'X 5 Values\\')\\nplt.ylabel(\\'Y 5 Values\\')\\nplt.show()\\n\\n'"
            ]
          },
          "metadata": {},
          "execution_count": 124
        }
      ]
    },
    {
      "cell_type": "code",
      "source": [
        ""
      ],
      "metadata": {
        "id": "OZfPUjCJQG7m"
      },
      "execution_count": null,
      "outputs": []
    }
  ]
}